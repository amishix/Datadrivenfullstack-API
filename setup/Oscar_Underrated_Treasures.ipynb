{
  "cells": [
    {
      "cell_type": "markdown",
      "metadata": {},
      "source": [
        "# Oscar Underrated Treasures API Test\n",
        "\n"
      ]
    },
    {
      "cell_type": "code",
      "execution_count": 1,
      "metadata": {},
      "outputs": [],
      "source": [
        "# Base API URL\n",
        "import requests\n",
        "import json\n",
        "API = 'http://localhost:5050'"
      ]
    },
    {
      "cell_type": "markdown",
      "metadata": {},
      "source": [
        "## Step 1: Get Underrated Treasures (Rating 8.0+)"
      ]
    },
    {
      "cell_type": "code",
      "execution_count": 2,
      "metadata": {},
      "outputs": [
        {
          "name": "stdout",
          "output_type": "stream",
          "text": [
            "Found 51 underrated films.\n",
            "- Once Upon a Time in America (8.408)\n",
            "- Once Upon a Time in the West (8.285)\n",
            "- Seven Samurai (8.457)\n",
            "- The Good, the Bad and the Ugly (8.463)\n",
            "- One Flew Over the Cuckoo's Nest (8.413)\n"
          ]
        }
      ],
      "source": [
        "res = requests.get(f\"{API}/api/underrated_treasures\")\n",
        "treasures = res.json()\n",
        "print(f\"Found {len(treasures)} underrated films.\")\n",
        "for t in treasures[:5]:\n",
        "    print(f\"- {t['title']} ({t['vote_average']})\")\n",
        "\n",
        "# Save a sample film ID to use later\n",
        "sample_film_id = treasures[0]['id']"
      ]
    },
    {
      "cell_type": "markdown",
      "metadata": {},
      "source": [
        "## Step 2: Fetch Reviews for a Film"
      ]
    },
    {
      "cell_type": "code",
      "execution_count": 3,
      "metadata": {},
      "outputs": [
        {
          "name": "stdout",
          "output_type": "stream",
          "text": [
            "Average rating: 5.0\n",
            "5 — Absolutely underrated masterpiece. Loved it!\n",
            "5 — Absolutely underrated masterpiece. Loved it!\n",
            "5 — Absolutely underrated masterpiece. Loved it!\n"
          ]
        }
      ],
      "source": [
        "res = requests.get(f\"{API}/api/reviews?film_id={sample_film_id}\")\n",
        "data = res.json()\n",
        "print(f\"Average rating: {data['average']}\")\n",
        "for r in data['reviews'][:3]:\n",
        "    print(f\"{r['rating']} — {r['comment']}\")"
      ]
    },
    {
      "cell_type": "markdown",
      "metadata": {},
      "source": [
        "##  Step 3: Submit a New Review (Mocked)"
      ]
    },
    {
      "cell_type": "code",
      "execution_count": 4,
      "metadata": {},
      "outputs": [
        {
          "name": "stdout",
          "output_type": "stream",
          "text": [
            "Review submitted successfully:\n",
            "{\n",
            "  \"comment\": \"Absolutely underrated masterpiece. Loved it!\",\n",
            "  \"created_at\": \"2025-06-02T00:52:32.668188\",\n",
            "  \"film_id\": 311,\n",
            "  \"id\": 12,\n",
            "  \"rating\": 5,\n",
            "  \"user_key\": \"a4a91349-26c3-4fc8-b1a7-44e03a84112c\"\n",
            "}\n"
          ]
        }
      ],
      "source": [
        "import uuid\n",
        "\n",
        "payload = {\n",
        "    \"film_id\": sample_film_id,\n",
        "    \"user_key\": str(uuid.uuid4()),\n",
        "    \"rating\": 5,\n",
        "    \"comment\": \"Absolutely underrated masterpiece. Loved it!\"\n",
        "}\n",
        "\n",
        "res = requests.post(f\"{API}/api/reviews\", json=payload)\n",
        "if res.ok:\n",
        "    print(\"Review submitted successfully:\")\n",
        "    print(json.dumps(res.json(), indent=2))\n",
        "else:\n",
        "    print(\"Failed to submit review.\")"
      ]
    }
  ],
  "metadata": {
    "kernelspec": {
      "display_name": "Python 3",
      "language": "python",
      "name": "python3"
    },
    "language_info": {
      "codemirror_mode": {
        "name": "ipython",
        "version": 3
      },
      "file_extension": ".py",
      "mimetype": "text/x-python",
      "name": "python",
      "nbconvert_exporter": "python",
      "pygments_lexer": "ipython3",
      "version": "3.11.5"
    }
  },
  "nbformat": 4,
  "nbformat_minor": 5
}
