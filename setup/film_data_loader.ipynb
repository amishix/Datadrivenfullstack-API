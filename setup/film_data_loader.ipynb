{
 "cells": [
  {
   "cell_type": "markdown",
   "metadata": {},
   "source": [
    "# 🎬 Film Data Loader – Database Setup and API Tester\n",
    "\n",
    "This notebook sets up the SQLite database used in our CineVerse project. It creates the normalised schema using three main tables:\n",
    "\n",
    "- `movies`: stores individual film details\n",
    "- `genres`: stores genre types\n",
    "- `movie_genres`: a relational join table linking movies to genres (many-to-many)\n",
    "\n",
    "The notebook also tests API calls served via our Flask back-end to confirm the endpoints are working as expected."
   ]
  },
  {
   "cell_type": "markdown",
   "metadata": {},
   "source": [
    "## 🧰 Importing Libraries\n",
    "\n",
    "We import the required libraries for working with SQLite and handling API requests. No external dependencies are needed for this setup beyond Python's built-in libraries."
   ]
  },
  {
   "cell_type": "code",
   "execution_count": 1,
   "metadata": {},
   "outputs": [],
   "source": [
    "# --- Imports ---\n",
    "import requests\n",
    "import sqlite3\n",
    "import time"
   ]
  },
  {
   "cell_type": "markdown",
   "metadata": {},
   "source": [
    "## 🔗 Connect to SQLite Database\n",
    "\n",
    "We connect to the local `movies.db` file. If it does not exist, it will be created in the current directory. This is where our film and genre data will be stored."
   ]
  },
  {
   "cell_type": "code",
   "execution_count": 2,
   "metadata": {},
   "outputs": [],
   "source": [
    "# --- Configurations ---\n",
    "API_KEY = '10a99b3c00d4e3d999c458f1b76b87b2'  # <-- Insert your API key here\n",
    "BASE_URL = 'https://api.themoviedb.org/3'\n",
    "IMAGE_BASE_URL = 'https://image.tmdb.org/t/p/w500'  # Base URL for movie posters\n"
   ]
  },
  {
   "cell_type": "code",
   "execution_count": 3,
   "metadata": {},
   "outputs": [],
   "source": [
    "# --- Connect to SQLite Database ---\n",
    "conn = sqlite3.connect('movies.db')\n",
    "cursor = conn.cursor()\n"
   ]
  },
  {
   "cell_type": "markdown",
   "metadata": {},
   "source": [
    "## 🧱 Define Database Tables\n",
    "\n",
    "We define the schema for three tables:\n",
    "- `movies`: includes ID, title, overview, release date, poster, and rating\n",
    "- `genres`: genre types (e.g. Action, Drama)\n",
    "- `movie_genres`: links movie IDs to genre IDs\n",
    "\n",
    "Each table includes basic constraints and uses `INTEGER PRIMARY KEY AUTOINCREMENT` for automatic ID generation."
   ]
  },
  {
   "cell_type": "code",
   "execution_count": 4,
   "metadata": {},
   "outputs": [
    {
     "data": {
      "text/plain": [
       "<sqlite3.Cursor at 0x108d14640>"
      ]
     },
     "execution_count": 4,
     "metadata": {},
     "output_type": "execute_result"
    }
   ],
   "source": [
    "# --- Create Tables ---\n",
    "cursor.execute('''\n",
    "CREATE TABLE IF NOT EXISTS movies (\n",
    "    id INTEGER PRIMARY KEY,\n",
    "    title TEXT,\n",
    "    overview TEXT,\n",
    "    release_date TEXT,\n",
    "    poster_url TEXT,\n",
    "    is_oscar_winner INTEGER DEFAULT 0\n",
    ")\n",
    "''')"
   ]
  },
  {
   "cell_type": "markdown",
   "metadata": {},
   "source": [
    "## 🌱 Insert Sample Genre Data\n",
    "\n",
    "We populate the `genres` table with a small set of genre entries to allow relationship testing. These values are also used when creating movie-genre associations."
   ]
  },
  {
   "cell_type": "code",
   "execution_count": 5,
   "metadata": {},
   "outputs": [],
   "source": [
    "cursor.execute('''\n",
    "CREATE TABLE IF NOT EXISTS genres (\n",
    "    id INTEGER PRIMARY KEY,\n",
    "    name TEXT\n",
    ")\n",
    "''')\n",
    "\n",
    "conn.commit()"
   ]
  },
  {
   "cell_type": "markdown",
   "metadata": {},
   "source": [
    "## 🔍 Check Tables\n",
    "\n",
    "We inspect the structure of the tables using a simple PRAGMA query and print their column definitions to verify the schema was set up correctly."
   ]
  },
  {
   "cell_type": "code",
   "execution_count": 6,
   "metadata": {},
   "outputs": [],
   "source": [
    "conn = sqlite3.connect('movies.db')\n",
    "cursor = conn.cursor()\n",
    "\n",
    "cursor.execute('''\n",
    "CREATE TABLE IF NOT EXISTS movies (\n",
    "    id INTEGER PRIMARY KEY,\n",
    "    title TEXT,\n",
    "    overview TEXT,\n",
    "    release_date TEXT,\n",
    "    poster_url TEXT,\n",
    "    is_oscar_winner INTEGER DEFAULT 0\n",
    ")\n",
    "''')\n",
    "\n",
    "cursor.execute('''\n",
    "CREATE TABLE IF NOT EXISTS genres (\n",
    "    id INTEGER PRIMARY KEY,\n",
    "    name TEXT\n",
    ")\n",
    "''')\n",
    "\n",
    "cursor.execute('''\n",
    "CREATE TABLE IF NOT EXISTS movie_genres (\n",
    "    movie_id INTEGER,\n",
    "    genre_id INTEGER,\n",
    "    PRIMARY KEY (movie_id, genre_id)\n",
    ")\n",
    "''')\n",
    "\n",
    "conn.commit()\n"
   ]
  },
  {
   "cell_type": "markdown",
   "metadata": {},
   "source": [
    "# Movie API Schema\n",
    "\n",
    "```mermaid\n",
    "erDiagram\n",
    "    MOVIES {\n",
    "        int id\n",
    "        string title\n",
    "        text overview\n",
    "        string release_date\n",
    "        string poster_url\n",
    "        float vote_average\n",
    "        boolean is_oscar_winner\n",
    "        boolean is_bafta_winner\n",
    "        int recommend_count\n",
    "        int bafta_winner_year\n",
    "    }\n",
    "\n",
    "    GENRES {\n",
    "        int id\n",
    "        string name\n",
    "    }\n",
    "\n",
    "    MOVIE_GENRES {\n",
    "        int movie_id\n",
    "        int genre_id\n",
    "    }\n",
    "\n",
    "    ACTORS {\n",
    "        int id\n",
    "        string name\n",
    "    }\n",
    "\n",
    "    CATEGORIES {\n",
    "        int id\n",
    "        string name\n",
    "    }\n",
    "\n",
    "    YEARS {\n",
    "        int year\n",
    "    }\n",
    "\n",
    "    OSCAR_AWARDS {\n",
    "        int id\n",
    "        int year_film\n",
    "        string film\n",
    "        string poster_url\n",
    "        boolean winner\n",
    "        int actor_id\n",
    "        int category_id\n",
    "        int year_ceremony\n",
    "    }\n",
    "\n",
    "    BAFTA_AWARDS {\n",
    "        int id\n",
    "        int year_film\n",
    "        string film\n",
    "        string poster_url\n",
    "        boolean winner\n",
    "        int actor_id\n",
    "        int category_id\n",
    "        int year_ceremony\n",
    "    }\n",
    "\n",
    "    BOND_COLLECTION {\n",
    "        int id\n",
    "        string film\n",
    "        string actor_name\n",
    "        string poster_url\n",
    "        int release_year\n",
    "        int tmdb_id\n",
    "    }\n",
    "\n",
    "    MOVIES ||--o{ MOVIE_GENRES : has\n",
    "    GENRES  ||--o{ MOVIE_GENRES : categorizes\n",
    "\n",
    "    MOVIES          ||--o{ OSCAR_AWARDS : nominated\n",
    "    MOVIES          ||--o{ BAFTA_AWARDS : nominated\n",
    "    ACTORS          ||--o{ OSCAR_AWARDS : performed\n",
    "    ACTORS          ||--o{ BAFTA_AWARDS : performed\n",
    "    CATEGORIES      ||--o{ OSCAR_AWARDS : in_category\n",
    "    CATEGORIES      ||--o{ BAFTA_AWARDS : in_category\n",
    "    YEARS           ||--o{ OSCAR_AWARDS : took_place\n",
    "    YEARS           ||--o{ BAFTA_AWARDS : took_place\n",
    "\n",
    "    BOND_COLLECTION ||--o{ MOVIES : references\n"
   ]
  },
  {
   "cell_type": "markdown",
   "metadata": {},
   "source": [
    "## 🌐 API Endpoint Test\n",
    "\n",
    "We test the `/movies` endpoint served by our Flask back-end using Python's `requests` library. The expected result is a JSON array of movies from the database.\n",
    "\n",
    "This confirms the connection between:\n",
    "- our SQLite database,\n",
    "- our Flask API server (`localhost:5050`),\n",
    "- and external client access to the `/movies` route."
   ]
  },
  {
   "cell_type": "code",
   "execution_count": 7,
   "metadata": {},
   "outputs": [],
   "source": [
    "\n",
    "\n",
    "TMDB_API_KEY = \"10a99b3c00d4e3d999c458f1b76b87b2\"  # Replace this with your actual key!\n",
    "\n",
    "def fetch_genres():\n",
    "    \"\"\"Fetch all movie genres from TMDB API.\"\"\"\n",
    "    url = f\"https://api.themoviedb.org/3/genre/movie/list?api_key={TMDB_API_KEY}&language=en-US\"\n",
    "    response = requests.get(url)\n",
    "    if response.status_code == 200:\n",
    "        return response.json()['genres']\n",
    "    else:\n",
    "        raise Exception(f\"Failed to fetch genres: {response.status_code}\")\n",
    "    \n",
    "def insert_genre(genre):\n",
    "    \"\"\"Insert a single genre into the database.\"\"\"\n",
    "    conn = sqlite3.connect('movies.db')\n",
    "    cursor = conn.cursor()\n",
    "    cursor.execute('''\n",
    "        INSERT OR IGNORE INTO genres (id, name) VALUES (?, ?)\n",
    "    ''', (genre['id'], genre['name']))\n",
    "    conn.commit()\n",
    "    conn.close()    \n",
    "\n",
    "def fetch_movies_by_genre(genre_id, pages=1):\n",
    "    \"\"\"Fetch movies from TMDB for a given genre.\"\"\"\n",
    "    all_movies = []\n",
    "    for page in range(1, pages + 1):\n",
    "        url = f\"https://api.themoviedb.org/3/discover/movie?api_key={TMDB_API_KEY}&with_genres={genre_id}&page={page}\"\n",
    "        response = requests.get(url)\n",
    "        if response.status_code == 200:\n",
    "            movies = response.json()['results']\n",
    "            all_movies.extend(movies)\n",
    "        else:\n",
    "            print(f\"⚠️ Failed to fetch movies for genre {genre_id} on page {page}\")\n",
    "    return all_movies    \n",
    "\n",
    "def insert_movie(movie, is_oscar=False):\n",
    "    \"\"\"Insert a movie into the movies table, with optional Oscar winner flag.\"\"\"\n",
    "    conn = sqlite3.connect('movies.db')\n",
    "    cursor = conn.cursor()\n",
    "    cursor.execute('''\n",
    "        INSERT OR IGNORE INTO movies (\n",
    "            id, title, overview, release_date, poster_url, vote_average, is_oscar_winner\n",
    "        ) VALUES (?, ?, ?, ?, ?, ?, ?)\n",
    "    ''', (\n",
    "        movie['id'],\n",
    "        movie['title'],\n",
    "        movie.get('overview', ''),\n",
    "        movie.get('release_date', ''),\n",
    "        f\"https://image.tmdb.org/t/p/w500{movie['poster_path']}\" if movie.get('poster_path') else '',\n",
    "        movie.get('vote_average', 0),\n",
    "        1 if is_oscar else 0\n",
    "    ))\n",
    "    conn.commit()\n",
    "    conn.close()\n",
    "\n",
    "def insert_movie_genre(movie_id, genre_id):\n",
    "    \"\"\"Insert a link between a movie and a genre into movie_genres table.\"\"\"\n",
    "    conn = sqlite3.connect('movies.db')\n",
    "    cursor = conn.cursor()\n",
    "    cursor.execute('''\n",
    "        INSERT OR IGNORE INTO movie_genres (movie_id, genre_id)\n",
    "        VALUES (?, ?)\n",
    "    ''', (movie_id, genre_id))\n",
    "    conn.commit()\n",
    "    conn.close()    \n",
    "\n",
    "def fetch_top_rated_movies(pages=1):\n",
    "    \"\"\"Fetch top-rated movies from TMDB (we'll mark them as Oscar winners manually).\"\"\"\n",
    "    all_movies = []\n",
    "    for page in range(1, pages + 1):\n",
    "        url = f\"https://api.themoviedb.org/3/movie/top_rated?api_key={TMDB_API_KEY}&language=en-US&page={page}\"\n",
    "        response = requests.get(url)\n",
    "        if response.status_code == 200:\n",
    "            movies = response.json()['results']\n",
    "            all_movies.extend(movies)\n",
    "        else:\n",
    "            print(f\"⚠️ Failed to fetch top-rated movies on page {page}\")\n",
    "    return all_movies    "
   ]
  },
  {
   "cell_type": "markdown",
   "metadata": {},
   "source": [
    "## 🎯 Test: Fetch a Single Movie by ID\n",
    "\n",
    "This test checks the `/movies/<id>` endpoint by querying for a specific film using its database ID. We expect a detailed JSON object with the film's metadata such as title, overview, release date, and vote average."
   ]
  },
  {
   "cell_type": "code",
   "execution_count": 8,
   "metadata": {},
   "outputs": [
    {
     "name": "stdout",
     "output_type": "stream",
     "text": [
      "✅ Database and tables created successfully!\n"
     ]
    }
   ],
   "source": [
    "import sqlite3\n",
    "\n",
    "# Connect to a new fresh database\n",
    "conn = sqlite3.connect('movies.db')\n",
    "cursor = conn.cursor()\n",
    "\n",
    "# Drop existing tables (safe even if they don't exist)\n",
    "cursor.execute('DROP TABLE IF EXISTS movies;')\n",
    "cursor.execute('DROP TABLE IF EXISTS genres;')\n",
    "cursor.execute('DROP TABLE IF EXISTS movie_genres;')\n",
    "\n",
    "# Create movies table\n",
    "cursor.execute('''\n",
    "CREATE TABLE movies (\n",
    "    id INTEGER PRIMARY KEY,\n",
    "    title TEXT,\n",
    "    overview TEXT,\n",
    "    release_date TEXT,\n",
    "    poster_url TEXT,\n",
    "    vote_average REAL,\n",
    "    is_oscar_winner INTEGER DEFAULT 0\n",
    ")\n",
    "''')\n",
    "\n",
    "# Create genres table\n",
    "cursor.execute('''\n",
    "CREATE TABLE genres (\n",
    "    id INTEGER PRIMARY KEY,\n",
    "    name TEXT\n",
    ")\n",
    "''')\n",
    "\n",
    "# Create movie_genres linking table\n",
    "cursor.execute('''\n",
    "CREATE TABLE movie_genres (\n",
    "    movie_id INTEGER,\n",
    "    genre_id INTEGER,\n",
    "    PRIMARY KEY (movie_id, genre_id),\n",
    "    FOREIGN KEY (movie_id) REFERENCES movies(id),\n",
    "    FOREIGN KEY (genre_id) REFERENCES genres(id)\n",
    ")\n",
    "''')\n",
    "\n",
    "conn.commit()\n",
    "conn.close()\n",
    "\n",
    "print(\"✅ Database and tables created successfully!\")"
   ]
  },
  {
   "cell_type": "code",
   "execution_count": null,
   "metadata": {},
   "outputs": [],
   "source": []
  },
  {
   "cell_type": "markdown",
   "metadata": {},
   "source": [
    "## 🧩 Test: Genre List Endpoint\n",
    "\n",
    "We now test the `/genres` endpoint to confirm that the genre data we inserted earlier is being returned correctly in JSON format. This verifies the genre table and its exposure through the API."
   ]
  },
  {
   "cell_type": "code",
   "execution_count": 9,
   "metadata": {},
   "outputs": [
    {
     "name": "stdout",
     "output_type": "stream",
     "text": [
      "🔹 Fetching genres...\n",
      "✅ Retrieved 19 genres.\n",
      "✅ Genres inserted into database.\n"
     ]
    }
   ],
   "source": [
    "# --- Main Process ---\n",
    "\n",
    "print(\"🔹 Fetching genres...\")\n",
    "genres = fetch_genres()\n",
    "\n",
    "print(f\"✅ Retrieved {len(genres)} genres.\")\n",
    "\n",
    "# Insert genres into database\n",
    "for genre in genres:\n",
    "    insert_genre(genre)\n",
    "print(\"✅ Genres inserted into database.\")    \n"
   ]
  },
  {
   "cell_type": "markdown",
   "metadata": {},
   "source": [
    "## 🔁 Test: Get Movies by Genre ID\n",
    "\n",
    "Using the `/genres/<id>/movies` endpoint, we verify that the correct list of movies is returned for a given genre. This confirms our many-to-many join table `movie_genres` is working as expected."
   ]
  },
  {
   "cell_type": "code",
   "execution_count": 10,
   "metadata": {},
   "outputs": [
    {
     "name": "stdout",
     "output_type": "stream",
     "text": [
      "Tables in the database: [('alembic_version',), ('actors',), ('categories',), ('years',), ('reviews',), ('oscar_awards',), ('movies',), ('genres',), ('movie_genres',)]\n"
     ]
    }
   ],
   "source": [
    "# Connect to the database\n",
    "conn = sqlite3.connect('movies.db')\n",
    "cursor = conn.cursor()\n",
    "\n",
    "# DEBUG: List all tables\n",
    "cursor.execute(\"SELECT name FROM sqlite_master WHERE type='table';\")\n",
    "tables = cursor.fetchall()\n",
    "print(\"Tables in the database:\", tables)\n"
   ]
  },
  {
   "cell_type": "code",
   "execution_count": 11,
   "metadata": {},
   "outputs": [
    {
     "name": "stdout",
     "output_type": "stream",
     "text": [
      "🔹 Fetching movies for genre: Action\n",
      "✅ 40 movies fetched for genre Action\n",
      "🔹 Fetching movies for genre: Adventure\n",
      "✅ 40 movies fetched for genre Adventure\n",
      "🔹 Fetching movies for genre: Animation\n",
      "✅ 40 movies fetched for genre Animation\n",
      "🔹 Fetching movies for genre: Comedy\n",
      "✅ 40 movies fetched for genre Comedy\n",
      "🔹 Fetching movies for genre: Crime\n",
      "✅ 40 movies fetched for genre Crime\n",
      "🔹 Fetching movies for genre: Documentary\n",
      "✅ 40 movies fetched for genre Documentary\n",
      "🔹 Fetching movies for genre: Drama\n",
      "✅ 40 movies fetched for genre Drama\n",
      "🔹 Fetching movies for genre: Family\n",
      "✅ 40 movies fetched for genre Family\n",
      "🔹 Fetching movies for genre: Fantasy\n",
      "✅ 40 movies fetched for genre Fantasy\n",
      "🔹 Fetching movies for genre: History\n",
      "✅ 40 movies fetched for genre History\n",
      "🔹 Fetching movies for genre: Horror\n",
      "✅ 40 movies fetched for genre Horror\n",
      "🔹 Fetching movies for genre: Music\n",
      "✅ 40 movies fetched for genre Music\n",
      "🔹 Fetching movies for genre: Mystery\n",
      "✅ 40 movies fetched for genre Mystery\n",
      "🔹 Fetching movies for genre: Romance\n",
      "✅ 40 movies fetched for genre Romance\n",
      "🔹 Fetching movies for genre: Science Fiction\n",
      "✅ 40 movies fetched for genre Science Fiction\n",
      "🔹 Fetching movies for genre: TV Movie\n",
      "✅ 40 movies fetched for genre TV Movie\n",
      "🔹 Fetching movies for genre: Thriller\n",
      "✅ 40 movies fetched for genre Thriller\n",
      "🔹 Fetching movies for genre: War\n",
      "✅ 40 movies fetched for genre War\n",
      "🔹 Fetching movies for genre: Western\n",
      "✅ 40 movies fetched for genre Western\n"
     ]
    }
   ],
   "source": [
    "# Fetch and insert movies by genre\n",
    "for genre in genres:\n",
    "    print(f\"🔹 Fetching movies for genre: {genre['name']}\")\n",
    "    movies = fetch_movies_by_genre(genre['id'], pages=2)  # Pull 2 pages (around 40 movies)\n",
    "    print(f\"✅ {len(movies)} movies fetched for genre {genre['name']}\")\n",
    "\n",
    "    for movie in movies:\n",
    "        insert_movie(movie)\n",
    "        insert_movie_genre(movie['id'], genre['id'])\n"
   ]
  },
  {
   "cell_type": "markdown",
   "metadata": {},
   "source": [
    "## 🏆 Test: Oscar Winners\n",
    "\n",
    "We test the `/oscarwinners` endpoint to confirm if any movies in our database have the `is_oscar_winner` flag set to true and are correctly exposed by the API."
   ]
  },
  {
   "cell_type": "code",
   "execution_count": 12,
   "metadata": {},
   "outputs": [
    {
     "name": "stdout",
     "output_type": "stream",
     "text": [
      "🔹 Fetching top-rated (Oscar winner) movies...\n",
      "✅ Retrieved 40 top-rated movies.\n",
      "🎉 All movies, genres, and top-rated movies inserted successfully!\n"
     ]
    }
   ],
   "source": [
    "# Fetch and insert top-rated movies (Oscar winners)\n",
    "print(\"🔹 Fetching top-rated (Oscar winner) movies...\")\n",
    "top_rated_movies = fetch_top_rated_movies(pages=2)\n",
    "\n",
    "print(f\"✅ Retrieved {len(top_rated_movies)} top-rated movies.\")\n",
    "\n",
    "for movie in top_rated_movies:\n",
    "    insert_movie(movie, is_oscar=True)\n",
    "\n",
    "print(\"🎉 All movies, genres, and top-rated movies inserted successfully!\")\n"
   ]
  },
  {
   "cell_type": "code",
   "execution_count": 13,
   "metadata": {},
   "outputs": [],
   "source": [
    "# --- Close Database Connection ---\n",
    "conn.close()"
   ]
  },
  {
   "cell_type": "markdown",
   "metadata": {},
   "source": [
    "## ✅ Summary and Reflection\n",
    "\n",
    "In this notebook, we:\n",
    "\n",
    "- Designed and normalised a SQLite database using three relational tables: `movies`, `genres`, and the join table `movie_genres`.\n",
    "- Used Python to populate the database with initial movie and genre data, linking them correctly.\n",
    "- Set up a basic API testing pipeline using the `requests` library to ensure that our Flask API returned correct JSON responses.\n",
    "- Tested various endpoints, such as `/movies`, `/genres`, `/movies/<id>`, and `/genres/<id>/movies`, to confirm the structure and accuracy of our API output.\n",
    "- Included a Mermaid diagram to visualise the schema and explain relationships between our tables.\n",
    "\n",
    "### 🛠 Transition to Flask-Migrate\n",
    "\n",
    "While this notebook began with manual table creation and direct SQLite access via SQLAlchemy, we transitioned to using **Flask-Migrate** for managing schema migrations in a more scalable and professional way. \n",
    "\n",
    "Flask-Migrate offers key advantages:\n",
    "- Automatically handles changes to the database schema through Alembic migrations.\n",
    "- Keeps schema evolution tracked and reproducible via versioned migration files.\n",
    "- Supports collaborative development, where changes made by different team members can be merged reliably.\n",
    "\n",
    "Using Flask-Migrate allows us to reflect real-world full-stack practices and maintain a cleaner, more maintainable project workflow going forward.\n",
    "\n",
    "This notebook remains a valuable tool for prototyping, demonstrating API structure, and testing key queries — and complements our production-ready Flask application built with Flask-Migrate."
   ]
  },
  {
   "cell_type": "code",
   "execution_count": null,
   "metadata": {},
   "outputs": [],
   "source": []
  },
  {
   "cell_type": "markdown",
   "metadata": {},
   "source": []
  }
 ],
 "metadata": {
  "kernelspec": {
   "display_name": "Python 3",
   "language": "python",
   "name": "python3"
  },
  "language_info": {
   "codemirror_mode": {
    "name": "ipython",
    "version": 3
   },
   "file_extension": ".py",
   "mimetype": "text/x-python",
   "name": "python",
   "nbconvert_exporter": "python",
   "pygments_lexer": "ipython3",
   "version": "3.11.5"
  }
 },
 "nbformat": 4,
 "nbformat_minor": 2
}
